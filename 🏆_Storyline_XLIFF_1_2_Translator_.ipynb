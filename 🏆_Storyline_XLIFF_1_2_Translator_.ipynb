{
  "cells": [
    {
      "cell_type": "code",
      "execution_count": null,
      "metadata": {
        "id": "-AhdxflHcIY3"
      },
      "outputs": [],
      "source": [
        "pip install deep-translator"
      ]
    },
    {
      "cell_type": "code",
      "execution_count": null,
      "metadata": {
        "colab": {
          "base_uri": "https://localhost:8080/"
        },
        "id": "HyuJYm8VXoF1",
        "outputId": "9d87c68f-1d9f-4f88-a515-ec4ce8e0ad86"
      },
      "outputs": [
        {
          "name": "stdout",
          "output_type": "stream",
          "text": [
            "✅ Translation completed. Output saved to: /content/IT Safe Ways of Working_V2_ko.xlf\n"
          ]
        }
      ],
      "source": [
        "import os\n",
        "import xml.etree.ElementTree as ET\n",
        "from xml.dom import minidom\n",
        "from deep_translator import GoogleTranslator\n",
        "\n",
        "# Set paths and language\n",
        "input_path = '/content/IT Safe Ways of Working_V2.xlf'  # Change as needed\n",
        "lang_code = 'ko'\n",
        "base_name = os.path.splitext(os.path.basename(input_path))[0]\n",
        "output_path = f\"/content/{base_name}_{lang_code}.xlf\"\n",
        "\n",
        "# Parse XML\n",
        "tree = ET.parse(input_path)\n",
        "root = tree.getroot()\n",
        "\n",
        "# XLIFF Namespace\n",
        "NS = 'urn:oasis:names:tc:xliff:document:1.2'\n",
        "ET.register_namespace('', NS)\n",
        "namespace = {'ns': NS}\n",
        "\n",
        "translator = GoogleTranslator(source='auto', target=lang_code)\n",
        "\n",
        "def translate_text(text):\n",
        "    try:\n",
        "        return translator.translate(text)\n",
        "    except Exception as e:\n",
        "        print(f\"Translation error: {e}\")\n",
        "        return text\n",
        "\n",
        "# Update <file> tag with target-language=\"ko\"\n",
        "file_elem = root.find('ns:file', namespace)\n",
        "if file_elem is not None and 'target-language' not in file_elem.attrib:\n",
        "    file_elem.attrib['target-language'] = lang_code\n",
        "\n",
        "# For each <trans-unit>, create <target> after <source>\n",
        "for trans_unit in root.findall('.//ns:trans-unit', namespace):\n",
        "    source = trans_unit.find('ns:source', namespace)\n",
        "    if source is None:\n",
        "        continue\n",
        "\n",
        "    # Remove existing <target> tag if present\n",
        "    existing_target = trans_unit.find('ns:target', namespace)\n",
        "    if existing_target is not None:\n",
        "        trans_unit.remove(existing_target)\n",
        "\n",
        "    # Create new <target> and copy/translate from <source>\n",
        "    target = ET.Element('target')\n",
        "\n",
        "    for elem in source:\n",
        "        # Translate <g ctype=\"x-text\" ...>\n",
        "        if elem.tag == f'{{{NS}}}g' and elem.attrib.get('ctype') == 'x-text':\n",
        "            new_elem = ET.Element(elem.tag, elem.attrib)\n",
        "            if elem.text and elem.text.strip():\n",
        "                new_elem.text = translate_text(elem.text.strip())\n",
        "            target.append(new_elem)\n",
        "        else:\n",
        "            new_elem = ET.Element(elem.tag, elem.attrib)\n",
        "            new_elem.text = elem.text\n",
        "            target.append(new_elem)\n",
        "        # Preserve tail text\n",
        "        if elem.tail:\n",
        "            target[-1].tail = elem.tail\n",
        "\n",
        "    # Copy/translate text directly under <source> (if any)\n",
        "    if source.text:\n",
        "        target.text = source.text\n",
        "\n",
        "    trans_unit.append(target)\n",
        "\n",
        "# Write formatted XML output\n",
        "xml_str = ET.tostring(root, encoding='utf-8')\n",
        "parsed = minidom.parseString(xml_str)\n",
        "pretty_xml = parsed.toprettyxml(indent=' ', encoding='utf-8')\n",
        "with open(output_path, 'wb') as f:\n",
        "    f.write(pretty_xml)\n",
        "\n",
        "print(f\"✅ Translation completed. Output saved to: {output_path}\")\n"
      ]
    }
  ],
  "metadata": {
    "colab": {
      "provenance": []
    },
    "kernelspec": {
      "display_name": "Python 3",
      "name": "python3"
    },
    "language_info": {
      "name": "python"
    }
  },
  "nbformat": 4,
  "nbformat_minor": 0
}
